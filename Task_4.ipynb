{
 "cells": [
  {
   "cell_type": "markdown",
   "id": "a7f16f85",
   "metadata": {},
   "source": [
    "### Task 4a. Analytically Computing Partial Gradients\n",
    "\n",
    "In order to find $\\arg\\min_{x_i} f({\\mathbf{x}_{t_0}}) \\forall i \\in {1,2,3}$ of our function\n",
    "$$ f(\\mathbf{x}) = \\exp(x_1 - 3x_2 + 3) + \\exp(3x_2 - 2x_3 - 2) + \\exp(2x_3 - x_1 + 2) $$\n",
    "on each t-th iteration we need to find a partial derivative by each variable, set it to zero and find the value of $x_i$ in terms of fixed rest variables; and for each other variable we use already calculated previously value of variable. \\\n",
    "For example, on the t-th iterattion we do:\n",
    "$$ \\begin{cases}\n",
    "   \\frac{\\partial f}{\\partial x_1} = 0 \\ \\textcolor{orange}\\rightarrow \\ \n",
    "   \\exp{\\left(x_1 - 3x_2 + 3\\right)} - \\exp{\\left(2x_3 - x_1 + 2\\right)} = 0 \\ \\textcolor{orange}\\rightarrow \\\n",
    "   x_1 = x_3 - \\frac{3}{2}x_2 - \\frac{1}{2} = \\xi_t \\ \\textcolor{orange}\\rightarrow \\ \\arg\\min_{x_1} f({\\mathbf{x}_{t}}) = f\\left(\\xi_t, x_{2_0}, x_{3_0}\\right)\n",
    "   \\\\\n",
    "   \\frac{\\partial f}{\\partial x_2} = 0 \\ \\textcolor{orange}\\rightarrow \\  \n",
    "   \\exp{\\left(x_1 - 3x_2 + 3\\right)} - \\exp{\\left(3x_3 - 2x_3 - 2\\right)} = 0 \\ \\textcolor{orange}\\rightarrow \\\n",
    "   x_2 = \\frac{1}{6}\\xi_t + \\frac{1}{6}x_3 + \\frac{5}{6} = \\zeta_t \\ \\textcolor{orange}\\rightarrow \\ \n",
    "   \\arg\\min_{x_2} f({\\mathbf{x}_{t}}) = f\\left(\\xi_t, \\zeta_t, x_{3_0}\\right)\n",
    "   \\\\\n",
    "   \\frac{\\partial f}{\\partial x_3} = 0 \\ \\textcolor{orange}\\rightarrow \\  \n",
    "   \\exp{\\left(3x_2 - 2x_3 - 2\\right)} - \\exp{\\left(2x_3 - x_1 + 2\\right)} = 0 \\ \\textcolor{orange}\\rightarrow \\\n",
    "   x_3 = \\frac{1}{4}\\xi_t + \\frac{3}{4}\\zeta_t - 1 = \\theta_t \\ \\textcolor{orange}\\rightarrow \\ \n",
    "   \\arg\\min_{x_3} f({\\mathbf{x}_{t}}) = f\\left(\\xi_t, \\zeta_t, \\theta_t\\right)\n",
    "   \\end{cases}\n",
    "$$"
   ]
  },
  {
   "cell_type": "code",
   "execution_count": 30,
   "id": "3a6e4f9e",
   "metadata": {},
   "outputs": [],
   "source": [
    "import numpy as np\n",
    "import matplotlib.pyplot as plt"
   ]
  },
  {
   "cell_type": "code",
   "execution_count": 26,
   "id": "1f5a74f2",
   "metadata": {},
   "outputs": [
    {
     "name": "stdout",
     "output_type": "stream",
     "text": [
      "argmin_x1 = -3.0, argmin_x2 = 2.17, argmin_x3 = 2.25\n"
     ]
    }
   ],
   "source": [
    "def argmin_x1(point):\n",
    "    '''\n",
    "    Returns a partial derivative by x_1 of the given function.\n",
    "    :param point: a tuple with a point coordinates.\n",
    "    :return: a value of a partial derivative by x_1.\n",
    "    '''\n",
    "    x_1, x_2, x_3 = point\n",
    "    return x_3 - (3 / 2) * x_2 - 0.5\n",
    "\n",
    "\n",
    "def argmin_x2(point):\n",
    "    '''\n",
    "    Returns a partial derivative by x_2 of the given function.\n",
    "    :param point: a tuple with a point coordinates.\n",
    "    :return: a value of a partial derivative by x_2.\n",
    "    '''\n",
    "    x_1, x_2, x_3 = point\n",
    "    return (1 / 6) * x_1 + (1 / 3) * x_3 + (5 / 6)\n",
    "\n",
    "\n",
    "def argmin_x3(point):\n",
    "    '''\n",
    "    Returns a partial derivative by x_3 of the given function.\n",
    "    :param point: a tuple with a point coordinates.\n",
    "    :return: a value of a partial derivative by x_3.\n",
    "    '''\n",
    "    x_1, x_2, x_3 = point\n",
    "    return (1 / 4) * x_1 + (3 / 4) * x_2 - 1\n",
    "\n",
    "init_point_a = (4,3,2)\n",
    "minimum_x1 = argmin_x1(init_point_a)\n",
    "minimum_x2 = argmin_x2(init_point_a)\n",
    "minimum_x3 = argmin_x3(init_point_a)\n",
    "\n",
    "print(f'argmin_x1 = {round(minimum_x1, 2)}, argmin_x2 = {round(minimum_x2, 2)}, argmin_x3 = {round(minimum_x3, 2)}')"
   ]
  },
  {
   "cell_type": "code",
   "execution_count": null,
   "id": "6388c983",
   "metadata": {},
   "outputs": [
    {
     "name": "stdout",
     "output_type": "stream",
     "text": [
      "Minimum point is (-2.0, 0.0, -1.5), minimum function value is 8.15.\n"
     ]
    }
   ],
   "source": [
    "def f(point):\n",
    "    '''\n",
    "    Return a value of a function in the given point.\n",
    "    :param point: a tuple with the given point coordinates.\n",
    "    :return: a function value in the point.\n",
    "    '''\n",
    "    x_1, x_2, x_3 = point\n",
    "    return np.exp(x_1 - 3 * x_2 + 3) + np.exp(3 * x_2 - 2 * x_3 - 2) + np.exp(2 * x_3 - x_1 + 2)\n",
    "\n",
    "\n",
    "def coordinate_descent(f,argmin,x_t0,max_iter=25):\n",
    "    '''\n",
    "    \n",
    "    '''\n",
    "    argmin_x1, argmin_x2, argmin_x3 = argmin\n",
    "    x1, x2, x3 = x_t0\n",
    "    for t in range(1, max_iter + 1):\n",
    "        x1 = argmin_x1((x1,x2,x3))\n",
    "        x2 = argmin_x2((x1,x2,x3))\n",
    "        x3 = argmin_x3((x1,x2,x3))\n",
    "\n",
    "    return (x1,x2,x3), f((x1,x2,x3))\n",
    "\n",
    "\n",
    "init_point_b = (1, 20, 5)\n",
    "argmin_array = np.array((argmin_x1, argmin_x2, argmin_x3))\n",
    "minimum_point, minimum_value = coordinate_descent(f,argmin_array,init_point_b)\n",
    "\n",
    "print(f'Minimum point is {tuple(round(i, 2) for i in minimum_point)}, minimum function value is {round(minimum_value, 2)}.')\n",
    "\n"
   ]
  },
  {
   "cell_type": "code",
   "execution_count": 52,
   "id": "b356fe5f",
   "metadata": {},
   "outputs": [
    {
     "data": {
      "text/plain": [
       "<matplotlib.colorbar.Colorbar at 0x16305da60>"
      ]
     },
     "execution_count": 52,
     "metadata": {},
     "output_type": "execute_result"
    },
    {
     "data": {
      "image/png": "[encoded data removed]",
      "text/plain": [
       "<Figure size 1200x600 with 4 Axes>"
      ]
     },
     "metadata": {},
     "output_type": "display_data"
    }
   ],
   "source": [
    "fig, ax = plt.subplots(1,3, figsize=(12,6))\n",
    "ax = ax.flatten()\n",
    "\n",
    "x_1 = np.linspace(-22, 22, 200)\n",
    "x_2 = np.linspace(-22, 22, 200)\n",
    "x_3 = np.linspace(-22, 22, 200)\n",
    "grid_size = len(x_1)\n",
    "X_1_1,  X_2_1 = np.meshgrid(x_1, x_2)\n",
    "X_2_2, X_3_2 = np.meshgrid(x_2, x_3)\n",
    "X_1_3, X_3_3 = np.meshgrid(x_1, x_3)\n",
    "\n",
    "projections = (\n",
    "    (X_1_1, X_2_1, np.full(grid_size, init_point_b[-1])),\n",
    "    (X_1_3, np.full(grid_size, init_point_b[-2]), X_3_3),\n",
    "    (np.full(grid_size, init_point_b[0]), X_2_2, X_3_2)\n",
    ")\n",
    "\n",
    "function_1 = f(projections[0])\n",
    "function_2 = f(projections[1])\n",
    "function_3 = f(projections[2])\n",
    "\n",
    "ax[0].contourf(X_1_1, X_2_1, function_1, 100, cmap='viridis')\n",
    "ax[0].plot(init_point_b[0], init_point_b[1], 'o', markersize=5, color='orange', label='start')\n",
    "ax[0].plot(minimum_point[0], minimum_point[1], 'o', markersize=5, color='red', label='end')\n",
    "\n",
    "cp = ax[1].contourf(X_1_3, X_3_3, function_2, 100, cmap='viridis')\n",
    "ax[1].plot(init_point_b[0], init_point_b[-1], 'o', markersize=5, color='orange', label='start')\n",
    "ax[1].plot(minimum_point[0], minimum_point[-1], 'o', markersize=5, color='red', label='end')\n",
    "\n",
    "ax[2].contourf(X_2_2, X_3_2, function_3, 100, cmap='viridis')\n",
    "ax[2].plot(init_point_b[1], init_point_b[2], 'o', markersize=5, color='orange', label='start')\n",
    "ax[2].plot(minimum_point[1], minimum_point[-1], 'o', markersize=5, color='red', label='end')\n",
    "\n",
    "plt.colorbar(cp, label='Function values')\n"
   ]
  },
  {
   "cell_type": "code",
   "execution_count": 41,
   "id": "ad0ee7e9",
   "metadata": {},
   "outputs": [
    {
     "data": {
      "text/plain": [
       "array([1, 1, 1, 1, 1, 1, 1, 1, 1, 1, 1, 1, 1, 1, 1, 1, 1, 1, 1, 1, 1, 1,\n",
       "       1, 1, 1, 1, 1, 1, 1, 1, 1, 1, 1, 1, 1, 1, 1, 1, 1, 1, 1, 1, 1, 1,\n",
       "       1, 1, 1, 1, 1, 1, 1, 1, 1, 1, 1, 1, 1, 1, 1, 1, 1, 1, 1, 1, 1, 1,\n",
       "       1, 1, 1, 1, 1, 1, 1, 1, 1, 1, 1, 1, 1, 1, 1, 1, 1, 1, 1, 1, 1, 1,\n",
       "       1, 1, 1, 1, 1, 1, 1, 1, 1, 1, 1, 1, 1, 1, 1, 1, 1, 1, 1, 1, 1, 1,\n",
       "       1, 1, 1, 1, 1, 1, 1, 1, 1, 1, 1, 1, 1, 1, 1, 1, 1, 1, 1, 1, 1, 1,\n",
       "       1, 1, 1, 1, 1, 1, 1, 1, 1, 1, 1, 1, 1, 1, 1, 1, 1, 1, 1, 1, 1, 1,\n",
       "       1, 1, 1, 1, 1, 1, 1, 1, 1, 1, 1, 1, 1, 1, 1, 1, 1, 1, 1, 1, 1, 1,\n",
       "       1, 1, 1, 1, 1, 1, 1, 1, 1, 1, 1, 1, 1, 1, 1, 1, 1, 1, 1, 1, 1, 1,\n",
       "       1, 1])"
      ]
     },
     "execution_count": 41,
     "metadata": {},
     "output_type": "execute_result"
    }
   ],
   "source": [
    "np.full(len(x_1), init_point_b[0])"
   ]
  },
  {
   "cell_type": "code",
   "execution_count": null,
   "id": "f39fd9c8",
   "metadata": {},
   "outputs": [],
   "source": []
  },
  {
   "cell_type": "code",
   "execution_count": null,
   "id": "f4b9ecef",
   "metadata": {},
   "outputs": [],
   "source": []
  }
 ],
 "metadata": {
  "kernelspec": {
   "display_name": "DBL",
   "language": "python",
   "name": "python3"
  },
  "language_info": {
   "codemirror_mode": {
    "name": "ipython",
    "version": 3
   },
   "file_extension": ".py",
   "mimetype": "text/x-python",
   "name": "python",
   "nbconvert_exporter": "python",
   "pygments_lexer": "ipython3",
   "version": "3.12.9"
  }
 },
 "nbformat": 4,
 "nbformat_minor": 5
}
