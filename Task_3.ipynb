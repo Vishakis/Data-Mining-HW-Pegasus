{
 "cells": [
  {
   "cell_type": "markdown",
   "id": "90a108b7",
   "metadata": {},
   "source": [
    "### Task 3. Gradient Descent"
   ]
  },
  {
   "cell_type": "code",
   "execution_count": 36,
   "id": "5caf7dd1",
   "metadata": {},
   "outputs": [],
   "source": [
    "def f(x: tuple) -> float:\n",
    "    '''Returns a value of Himmelblau function at the given point.\n",
    "    :param : is a tuple representing a point (u,v).\n",
    "    :return: a function value.\n",
    "    '''\n",
    "    u, v = x\n",
    "    function_value = (u ** 2 + v - 11) ** 2 + (u + v ** 2 - 7) ** 2\n",
    "    return function_value\n",
    "    \n",
    "\n",
    "def f_gradient(x: tuple) -> tuple:\n",
    "    '''Returns a gradient of Himmelblau function at the input point of a function.\n",
    "    :param : is a tuple representing a point at which the gradient is calculated.\n",
    "    :return: a tuple of gradient coordinates.\n",
    "    '''\n",
    "    u, v = x\n",
    "    u_coordinate = 4 * (u ** 2 + v - 11) * u + 2 * (u + v ** 2 - 7)\n",
    "    v_coordinate = 2 * (u ** 2 + v - 11) + 4 * (u + v ** 2 - 7) * v\n",
    "    return u_coordinate, v_coordinate\n",
    "\n",
    "\n",
    "def gradient_descent(f,grad_f,eta,u0,v0,max_iter=100):\n",
    "    '''\n",
    "    Finds a minimum of the function using a gradient-descent algorithm.\n",
    "    :param f: a function, takes a tuple with a point (u,v) as input. \n",
    "              Returns a function value in a given point.\n",
    "    \"param grad_f: a function calculating the functiobn gradient coordinates.\n",
    "                   Takes a point (u,v) as an input. Returns a tuple of coordinates (du, dv).\n",
    "    :param eta: a step-size function. Takes an iteration number and a constant of step as input.\n",
    "                Returns a step.\n",
    "    :param u0: initial u coordinate.\n",
    "    :param v0: initial v coordinate.\n",
    "    :param max_iter: the number of maximum iteration.\n",
    "    :Return: a tuple with \n",
    "    '''\n",
    "    u, v = u0, v0\n",
    "    u_path, v_path = [u], [v]\n",
    "    f_values = [f((u,v,))]  \n",
    "\n",
    "    for t in range(1, max_iter+1):\n",
    "        u_grad, v_grad = f_gradient((u, v,))  # Get the gradient at current point\n",
    "        u -= eta(t) * u_grad  # Update u\n",
    "        v -= eta(t) * v_grad # Update v\n",
    "\n",
    "        # Save the new values of u, v and f(u, v)\n",
    "        u_path.append(u)\n",
    "        v_path.append(v)\n",
    "        f_values.append(f((u, v)))\n",
    "\n",
    "    return (u_path, v_path), f_values\n",
    "        \n",
    "\n",
    "def eta_const(t,c=1e-3):\n",
    "    return c\n",
    "\n",
    "\n",
    "def eta_sqrt(t,c=1e-3):\n",
    "    return c / (t + 1) ** 0.5\n",
    "\n",
    "\n",
    "def eta_multistep(t,milestones=[20,50],c=0.1,eta_init=1):\n",
    "    if t < milestones[0]:\n",
    "        return 1\n",
    "    elif milestones[0] <= t < milestones[1]:\n",
    "        return 0.1\n",
    "    elif t >= milestones[1]:\n",
    "        return 0.01\n",
    "    "
   ]
  },
  {
   "cell_type": "markdown",
   "id": "5db88842",
   "metadata": {},
   "source": [
    "### Task 3a."
   ]
  },
  {
   "cell_type": "code",
   "execution_count": 37,
   "id": "23eb1cdd",
   "metadata": {},
   "outputs": [
    {
     "name": "stdout",
     "output_type": "stream",
     "text": [
      "Constant eta strategy: f_value = 0.028936222243675813, minimum of f_values = 0.028936222243675813.\n"
     ]
    }
   ],
   "source": [
    "eta_const_strategy = gradient_descent(f,f_gradient,eta_const,4,-5)\n",
    "final_function_value_eta_const = eta_const_strategy[1][-1]\n",
    "best_value_eta_const = min(eta_const_strategy[1][:])\n",
    "\n",
    "print(f'Constant eta strategy: f_value = {final_function_value_eta_const}, minimum of f_values = {best_value_eta_const}.')"
   ]
  },
  {
   "cell_type": "code",
   "execution_count": 38,
   "id": "9d447d35",
   "metadata": {},
   "outputs": [
    {
     "name": "stdout",
     "output_type": "stream",
     "text": [
      "Square root eta strategy: f_value = 14.481427564356759, minimum of f_values = 14.481427564356759.\n"
     ]
    }
   ],
   "source": [
    "eta_root_strategy = gradient_descent(f,f_gradient,eta_sqrt,4,-5)\n",
    "final_function_value_eta_root = eta_root_strategy[1][-1]\n",
    "best_value_eta_root = min(eta_root_strategy[1][:])\n",
    "\n",
    "print(f'Square root eta strategy: f_value = {final_function_value_eta_root}, minimum of f_values = {best_value_eta_root}.')"
   ]
  },
  {
   "cell_type": "code",
   "execution_count": 39,
   "id": "fef260fa",
   "metadata": {},
   "outputs": [
    {
     "ename": "KeyboardInterrupt",
     "evalue": "",
     "output_type": "error",
     "traceback": [
      "\u001b[31m---------------------------------------------------------------------------\u001b[39m",
      "\u001b[31mKeyboardInterrupt\u001b[39m                         Traceback (most recent call last)",
      "\u001b[36mCell\u001b[39m\u001b[36m \u001b[39m\u001b[32mIn[39]\u001b[39m\u001b[32m, line 1\u001b[39m\n\u001b[32m----> \u001b[39m\u001b[32m1\u001b[39m eta_multistep_strategy = gradient_descent(f,f_gradient,eta_multistep,\u001b[32m4\u001b[39m,-\u001b[32m5\u001b[39m)\n\u001b[32m      2\u001b[39m final_function_value_eta_multistep = eta_multistep_strategy[\u001b[32m1\u001b[39m][-\u001b[32m1\u001b[39m]\n\u001b[32m      3\u001b[39m best_value_eta_multistep = \u001b[38;5;28mmin\u001b[39m(eta_multistep_strategy[\u001b[32m1\u001b[39m][:])\n",
      "\u001b[36mCell\u001b[39m\u001b[36m \u001b[39m\u001b[32mIn[36]\u001b[39m\u001b[32m, line 48\u001b[39m, in \u001b[36mgradient_descent\u001b[39m\u001b[34m(f, grad_f, eta, u0, v0, max_iter)\u001b[39m\n\u001b[32m     46\u001b[39m     u_path.append(u)\n\u001b[32m     47\u001b[39m     v_path.append(v)\n\u001b[32m---> \u001b[39m\u001b[32m48\u001b[39m     f_values.append(f((u, v)))\n\u001b[32m     50\u001b[39m \u001b[38;5;28;01mreturn\u001b[39;00m (u_path, v_path), f_values\n",
      "\u001b[36mCell\u001b[39m\u001b[36m \u001b[39m\u001b[32mIn[36]\u001b[39m\u001b[32m, line 7\u001b[39m, in \u001b[36mf\u001b[39m\u001b[34m(x)\u001b[39m\n\u001b[32m      2\u001b[39m \u001b[38;5;250m\u001b[39m\u001b[33;03m'''Returns a value of Himmelblau function at the given point.\u001b[39;00m\n\u001b[32m      3\u001b[39m \u001b[33;03m:param : is a tuple representing a point (u,v).\u001b[39;00m\n\u001b[32m      4\u001b[39m \u001b[33;03m:return: a function value.\u001b[39;00m\n\u001b[32m      5\u001b[39m \u001b[33;03m'''\u001b[39;00m\n\u001b[32m      6\u001b[39m u, v = x\n\u001b[32m----> \u001b[39m\u001b[32m7\u001b[39m function_value = (u ** \u001b[32m2\u001b[39m + v - \u001b[32m11\u001b[39m) ** \u001b[32m2\u001b[39m + (u + v ** \u001b[32m2\u001b[39m - \u001b[32m7\u001b[39m) ** \u001b[32m2\u001b[39m\n\u001b[32m      8\u001b[39m \u001b[38;5;28;01mreturn\u001b[39;00m function_value\n",
      "\u001b[31mKeyboardInterrupt\u001b[39m: "
     ]
    }
   ],
   "source": [
    "eta_multistep_strategy = gradient_descent(f,f_gradient,eta_multistep,4,-5)\n",
    "final_function_value_eta_multistep = eta_multistep_strategy[1][-1]\n",
    "best_value_eta_multistep = min(eta_multistep_strategy[1][:])\n",
    "\n",
    "print(f'Multi-step eta strategy: f_value = {final_function_value_eta_multistep}, minimum of f_values = {best_value_eta_multistep}.')"
   ]
  },
  {
   "cell_type": "code",
   "execution_count": null,
   "id": "2469bbc7",
   "metadata": {},
   "outputs": [],
   "source": []
  }
 ],
 "metadata": {
  "kernelspec": {
   "display_name": "DBL",
   "language": "python",
   "name": "python3"
  },
  "language_info": {
   "codemirror_mode": {
    "name": "ipython",
    "version": 3
   },
   "file_extension": ".py",
   "mimetype": "text/x-python",
   "name": "python",
   "nbconvert_exporter": "python",
   "pygments_lexer": "ipython3",
   "version": "3.12.9"
  }
 },
 "nbformat": 4,
 "nbformat_minor": 5
}
